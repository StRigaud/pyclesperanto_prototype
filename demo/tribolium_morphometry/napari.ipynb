{
 "cells": [
  {
   "cell_type": "markdown",
   "metadata": {},
   "source": [
    "# Tribolium embryo morphometry\n",
    "Authors: Robert Haase, Daniela Vorkel, June 2020\n",
    "\n",
    "This is the pyclesperanto version of a workflow earlier [published for clij2](https://clij.github.io/clij2-docs/md/tribolium_morphometry/). \n",
    "[ImageJ Macro original](https://github.com/clij/clij2-docs/tree/master/src/main/macro/tribolium_morphometry.ijm)\n",
    "\n",
    "This script is an example of heavy GPU-accelerated processing. It is recommended to use a dedicated\n",
    "graphics card with at least 8 GB of GDDR6 memory. Otherwise, it may be quite slow.\n",
    "\n",
    "Let's start by checking that pyclesperanto is installed and which GPU it uses."
   ]
  },
  {
   "cell_type": "code",
   "execution_count": 103,
   "metadata": {},
   "outputs": [
    {
     "name": "stdout",
     "output_type": "stream",
     "text": [
      "gfx902\n"
     ]
    }
   ],
   "source": [
    "import pyclesperanto_prototype as cle\n",
    "\n",
    "print(cle.get_device().name)"
   ]
  },
  {
   "cell_type": "code",
   "execution_count": 104,
   "metadata": {},
   "outputs": [],
   "source": [
    "%gui qt"
   ]
  },
  {
   "cell_type": "markdown",
   "metadata": {},
   "source": [
    "## Load a data set\n",
    "The dataset is available [online](https://git.mpi-cbg.de/rhaase/clij2_example_data/blob/master/lund1051_resampled.tif).\n",
    "It shows a *Tribolium castaneum* embryo, imaged by a custom light sheet microscope, at a wavelength of 488nm (Imaging credits: Daniela Vorkel, Myers lab, MPI CBG). \n",
    "The data set has been resampled to a voxel size of 1x1x1 microns. The embryo expresses nuclei-GFP. We will use the dataset to detect nuclei and to generate an estimated cell-segmentation.\n",
    "\n",
    "All processing steps are performed in 3D space. For visualization purpose, we are using the maximum intensity projection in Z: "
   ]
  },
  {
   "cell_type": "code",
   "execution_count": 105,
   "metadata": {},
   "outputs": [
    {
     "name": "stdout",
     "output_type": "stream",
     "text": [
      "(213, 710, 355)\n"
     ]
    }
   ],
   "source": [
    "from skimage.io import imread\n",
    "\n",
    "image = imread('C:/structure/teaching/clij2_example_data/lund1051_resampled.tif')\n",
    "\n",
    "# print out the spatial dimensions of the image\n",
    "print(image.shape)"
   ]
  },
  {
   "cell_type": "code",
   "execution_count": 106,
   "metadata": {},
   "outputs": [],
   "source": [
    "from skimage import data\n",
    "import napari\n",
    "viewer = napari.Viewer()"
   ]
  },
  {
   "cell_type": "code",
   "execution_count": 107,
   "metadata": {},
   "outputs": [],
   "source": [
    "# voxel size z,y,x\n",
    "calibration = [1, 1, 1]"
   ]
  },
  {
   "cell_type": "code",
   "execution_count": 108,
   "metadata": {},
   "outputs": [],
   "source": [
    "import matplotlib.pyplot as plt\n",
    "\n",
    "# convenience function for visualisation\n",
    "def show(gpu_image):\n",
    "    image = cle.pull_zyx(gpu_image)\n",
    "    viewer.add_image(image, scale=calibration)\n",
    "    \n",
    "def show_labels(labels):\n",
    "    viewer.add_labels(labels)"
   ]
  },
  {
   "cell_type": "code",
   "execution_count": 109,
   "metadata": {},
   "outputs": [],
   "source": [
    "# push image to GPU memory and show it\n",
    "gpu_input = cle.push_zyx(image)\n",
    "# print(gpu_input)\n",
    "\n",
    "show(gpu_input)"
   ]
  },
  {
   "cell_type": "code",
   "execution_count": null,
   "metadata": {},
   "outputs": [],
   "source": []
  },
  {
   "cell_type": "markdown",
   "metadata": {},
   "source": [
    "## Spot detection\n",
    "After some noise removal/smoothing, we perform a local maximum detection:"
   ]
  },
  {
   "cell_type": "code",
   "execution_count": 110,
   "metadata": {},
   "outputs": [],
   "source": [
    "# gaussian blur\n",
    "sigma = 2.0\n",
    "gpu_blurred = cle.gaussian_blur(gpu_input, sigma_x=sigma, sigma_y=sigma, sigma_z=sigma)\n",
    "\n",
    "# detect maxima\n",
    "gpu_detected_maxima = cle.detect_maxima_box(gpu_blurred)\n",
    "show(gpu_detected_maxima)"
   ]
  },
  {
   "cell_type": "markdown",
   "metadata": {},
   "source": [
    "## Spot curation\n",
    "Now, we remove spots with values below a certain intensity and label the remaining spots."
   ]
  },
  {
   "cell_type": "code",
   "execution_count": 111,
   "metadata": {},
   "outputs": [],
   "source": [
    "# threshold\n",
    "threshold = 300.0\n",
    "gpu_thresholded = cle.greater_constant(gpu_blurred, constant=threshold)\n",
    "\n",
    "# mask\n",
    "gpu_masked_spots = cle.mask(gpu_detected_maxima, gpu_thresholded)\n",
    "\n",
    "# label spots\n",
    "gpu_labelled_spots = cle.connected_components_labeling_box(gpu_masked_spots)\n",
    "show_labels(gpu_labelled_spots)"
   ]
  },
  {
   "cell_type": "markdown",
   "metadata": {},
   "source": [
    "Let's see how many spots are left:"
   ]
  },
  {
   "cell_type": "code",
   "execution_count": 112,
   "metadata": {
    "scrolled": true
   },
   "outputs": [
    {
     "name": "stdout",
     "output_type": "stream",
     "text": [
      "Number of detected spots: 1649\n"
     ]
    }
   ],
   "source": [
    "number_of_spots = int(cle.maximum_of_all_pixels(gpu_labelled_spots))\n",
    "print(\"Number of detected spots: \" + str(number_of_spots))"
   ]
  },
  {
   "cell_type": "markdown",
   "metadata": {},
   "source": [
    "## Expanding labelled spots\n",
    "Next, we spatially extend the labelled spots by applying a maximum filter."
   ]
  },
  {
   "cell_type": "code",
   "execution_count": 113,
   "metadata": {},
   "outputs": [],
   "source": [
    "# label map closing\n",
    "number_of_dilations = 10\n",
    "\n",
    "\n",
    "flip = cle.create_like(gpu_labelled_spots)\n",
    "flop = cle.create_like(gpu_labelled_spots)\n",
    "flag = cle.create([1,1,1])\n",
    "cle.copy(gpu_labelled_spots, flip)\n",
    "\n",
    "\n",
    "for i in range (0, number_of_dilations) :\n",
    "    cle.onlyzero_overwrite_maximum_box(flip, flag, flop)\n",
    "    cle.onlyzero_overwrite_maximum_diamond(flop, flag, flip)\n"
   ]
  },
  {
   "cell_type": "markdown",
   "metadata": {},
   "source": [
    "Afterwards, we erode all labels in the map and get a final result of cell segementation."
   ]
  },
  {
   "cell_type": "code",
   "execution_count": 114,
   "metadata": {},
   "outputs": [],
   "source": [
    "flap = cle.greater_constant(flip, constant=1)\n",
    "number_of_erosions = 4\n",
    "for i in range(0, number_of_erosions):\n",
    "    cle.erode_box(flap, flop)\n",
    "    cle.erode_box(flop, flap)\n",
    "\n",
    "gpu_labels = cle.mask(flip, flap)\n",
    "show_labels(gpu_labels)"
   ]
  },
  {
   "cell_type": "markdown",
   "metadata": {},
   "source": [
    "## Draw connectivity of the cells as a mesh\n",
    "We then read out all current positions of detected nuclei as a pointlist to generate \n",
    "a distance matrix of all nuclei towards each other:"
   ]
  },
  {
   "cell_type": "code",
   "execution_count": 115,
   "metadata": {},
   "outputs": [
    {
     "name": "stdout",
     "output_type": "stream",
     "text": [
      "1649\n",
      "3\n"
     ]
    },
    {
     "name": "stderr",
     "output_type": "stream",
     "text": [
      "c:\\users\\rober\\miniconda3\\lib\\site-packages\\pyopencl\\__init__.py:253: CompilerWarning: Non-empty compiler output encountered. Set the environment variable PYOPENCL_COMPILER_OUTPUT=1 to see more.\n",
      "  \"to see more.\", CompilerWarning)\n"
     ]
    }
   ],
   "source": [
    "gpu_pointlist = cle.labelled_spots_to_pointlist(gpu_labelled_spots)\n",
    "gpu_distance_matrix = cle.generate_distance_matrix(gpu_pointlist, gpu_pointlist)\n",
    "# show(gpu_distance_matrix)"
   ]
  },
  {
   "cell_type": "markdown",
   "metadata": {},
   "source": [
    "Starting from the label map of segmented cells, we generate a touch matrix:"
   ]
  },
  {
   "cell_type": "code",
   "execution_count": 116,
   "metadata": {},
   "outputs": [
    {
     "data": {
      "text/plain": [
       "array([[0., 0., 0., ..., 0., 0., 0.],\n",
       "       [0., 0., 0., ..., 0., 0., 0.],\n",
       "       [0., 0., 0., ..., 0., 0., 0.],\n",
       "       ...,\n",
       "       [0., 0., 0., ..., 0., 0., 0.],\n",
       "       [0., 0., 0., ..., 0., 0., 0.],\n",
       "       [0., 0., 0., ..., 1., 0., 0.]], dtype=float32)"
      ]
     },
     "execution_count": 116,
     "metadata": {},
     "output_type": "execute_result"
    }
   ],
   "source": [
    "gpu_touch_matrix = cle.generate_touch_matrix(gpu_labels)\n",
    "\n",
    "# touch matrix:\n",
    "# set the first column to zero to ignore all spots touching the background (background label 0, first column)\n",
    "cle.set_column(gpu_touch_matrix, 0, 0)\n",
    "\n",
    "# show(gpu_touch_matrix)"
   ]
  },
  {
   "cell_type": "markdown",
   "metadata": {},
   "source": [
    "Using element by element multiplication of a distance matrix and a touch matrix, we calculate the length of \n",
    "each edge. We use this result to draw a mesh with a color gradient of distance (between 0 and 50 micron):"
   ]
  },
  {
   "cell_type": "code",
   "execution_count": 117,
   "metadata": {},
   "outputs": [],
   "source": [
    "gpu_touch_matrix_with_distances = cle.multiply_images(gpu_touch_matrix, gpu_distance_matrix);\n",
    "\n",
    "gpu_mesh = cle.create_like(gpu_input)\n",
    "cle.set(gpu_mesh, 0)\n",
    "\n",
    "cle.touch_matrix_to_mesh(gpu_pointlist, gpu_touch_matrix_with_distances, gpu_mesh);\n",
    "\n",
    "show(gpu_mesh);"
   ]
  },
  {
   "cell_type": "code",
   "execution_count": null,
   "metadata": {},
   "outputs": [],
   "source": []
  }
 ],
 "metadata": {
  "kernelspec": {
   "display_name": "Python 3",
   "language": "python",
   "name": "python3"
  },
  "language_info": {
   "codemirror_mode": {
    "name": "ipython",
    "version": 3
   },
   "file_extension": ".py",
   "mimetype": "text/x-python",
   "name": "python",
   "nbconvert_exporter": "python",
   "pygments_lexer": "ipython3",
   "version": "3.7.7"
  }
 },
 "nbformat": 4,
 "nbformat_minor": 4
}
