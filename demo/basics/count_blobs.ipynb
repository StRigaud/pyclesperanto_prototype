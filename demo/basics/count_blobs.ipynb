{
 "cells": [
  {
   "cell_type": "code",
   "execution_count": 1,
   "metadata": {},
   "outputs": [],
   "source": [
    "import pyclesperanto_prototype as cle\n",
    "\n",
    "from skimage.io import imread, imsave, imshow"
   ]
  },
  {
   "cell_type": "code",
   "execution_count": 2,
   "metadata": {},
   "outputs": [
    {
     "name": "stdout",
     "output_type": "stream",
     "text": [
      "Used GPU: gfx902\n"
     ]
    }
   ],
   "source": [
    "# initialize GPU\n",
    "cle.select_device(\"GTX\")\n",
    "print(\"Used GPU: \" + cle.get_device().name)"
   ]
  },
  {
   "cell_type": "code",
   "execution_count": 3,
   "metadata": {},
   "outputs": [
    {
     "name": "stdout",
     "output_type": "stream",
     "text": [
      "Loaded image size: (254, 256)\n"
     ]
    }
   ],
   "source": [
    "# load data\n",
    "image = imread('D:/structure/data/blobs.tif')\n",
    "#imread('https://imagej.nih.gov/ij/images/blobs.gif')\n",
    "print(\"Loaded image size: \" + str(image.shape))"
   ]
  },
  {
   "cell_type": "code",
   "execution_count": 4,
   "metadata": {},
   "outputs": [
    {
     "name": "stdout",
     "output_type": "stream",
     "text": [
      "Image size in GPU: (256, 254)\n"
     ]
    }
   ],
   "source": [
    "# push image to GPU memory\n",
    "input = cle.push(image)\n",
    "print(\"Image size in GPU: \" + str(input.shape))"
   ]
  },
  {
   "cell_type": "code",
   "execution_count": 5,
   "metadata": {},
   "outputs": [
    {
     "name": "stderr",
     "output_type": "stream",
     "text": [
      "c:\\users\\rober\\miniconda3\\lib\\site-packages\\pyopencl\\__init__.py:253: CompilerWarning: Non-empty compiler output encountered. Set the environment variable PYOPENCL_COMPILER_OUTPUT=1 to see more.\n",
      "  \"to see more.\", CompilerWarning)\n",
      "c:\\users\\rober\\miniconda3\\lib\\site-packages\\skimage\\io\\_plugins\\matplotlib_plugin.py:150: UserWarning: Float image out of standard range; displaying image with stretched contrast.\n",
      "  lo, hi, cmap = _get_display_range(image)\n"
     ]
    },
    {
     "data": {
      "text/plain": [
       "<matplotlib.image.AxesImage at 0x28a9dbabbc8>"
      ]
     },
     "execution_count": 5,
     "metadata": {},
     "output_type": "execute_result"
    },
    {
     "data": {
      "image/png": "[encoded data removed]",
      "text/plain": [
       "<Figure size 432x288 with 2 Axes>"
      ]
     },
     "metadata": {
      "needs_background": "light"
     },
     "output_type": "display_data"
    }
   ],
   "source": [
    "# process the image\n",
    "blurred = cle.gaussian_blur(input, sigma_x=1, sigma_y=1)\n",
    "binary = cle.threshold_otsu(blurred)\n",
    "labeled = cle.connected_components_labeling_box(binary)\n",
    "\n",
    "imshow(cle.pull(labeled))"
   ]
  },
  {
   "cell_type": "code",
   "execution_count": 6,
   "metadata": {},
   "outputs": [
    {
     "name": "stdout",
     "output_type": "stream",
     "text": [
      "Number of objects in the image: 63.0\n"
     ]
    }
   ],
   "source": [
    "# The maxmium intensity in a label image corresponds to the number of objects\n",
    "num_labels = cle.maximum_of_all_pixels(labeled)\n",
    "\n",
    "# print out result\n",
    "print(\"Number of objects in the image: \" + str(num_labels))"
   ]
  },
  {
   "cell_type": "code",
   "execution_count": null,
   "metadata": {},
   "outputs": [],
   "source": []
  }
 ],
 "metadata": {
  "kernelspec": {
   "display_name": "Python 3",
   "language": "python",
   "name": "python3"
  },
  "language_info": {
   "codemirror_mode": {
    "name": "ipython",
    "version": 3
   },
   "file_extension": ".py",
   "mimetype": "text/x-python",
   "name": "python",
   "nbconvert_exporter": "python",
   "pygments_lexer": "ipython3",
   "version": "3.7.7"
  }
 },
 "nbformat": 4,
 "nbformat_minor": 4
}
